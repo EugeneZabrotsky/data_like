{
 "cells": [
  {
   "cell_type": "code",
   "execution_count": 1,
   "metadata": {},
   "outputs": [],
   "source": [
    "import numpy as np\n",
    "import pandas as pd\n",
    "import catboost as cb\n",
    "from sklearn.model_selection import train_test_split\n",
    "from matplotlib import pyplot as plt\n",
    "from catboost.utils import create_cd\n",
    "from bayes_opt import BayesianOptimization\n",
    "\n",
    "from bayes_opt.observer import JSONLogger\n",
    "from bayes_opt.event import Events\n",
    "\n",
    "import config\n",
    "\n",
    "%load_ext autoreload\n",
    "%autoreload 2\n",
    "\n",
    "DATA_PATH = config.get_data_path()\n",
    "\n",
    "TRAIN_FEATURES = DATA_PATH / 'train_features.csv'\n",
    "TEST_FEATURES = DATA_PATH / 'test_features.csv'\n",
    "\n",
    "train_df = pd.read_csv(TRAIN_FEATURES, index_col=0, parse_dates=['event_dttm'])\n",
    "test_df = pd.read_csv(TEST_FEATURES, index_col=0, parse_dates=['event_dttm'])"
   ]
  },
  {
   "cell_type": "code",
   "execution_count": 2,
   "metadata": {},
   "outputs": [],
   "source": [
    "train_df['nearest_story_seconds_before'] = train_df['nearest_story_seconds_before'].abs()\n",
    "test_df['nearest_story_seconds_before'] = test_df['nearest_story_seconds_before'].abs()"
   ]
  },
  {
   "cell_type": "code",
   "execution_count": 3,
   "metadata": {},
   "outputs": [],
   "source": [
    "train_df = train_df.fillna(-999)\n",
    "test_df = test_df.fillna(-999)\n",
    "\n",
    "train_df = train_df.sort_values('event_dttm')"
   ]
  },
  {
   "cell_type": "code",
   "execution_count": 4,
   "metadata": {},
   "outputs": [],
   "source": [
    "def postprocess_probs(probs, thresh):\n",
    "    weights = np.array([[-10, -0.1, 0.1, 0.5]])\n",
    "    probs = np.sum(probs * weights, axis=1)\n",
    "    binarized = probs > thresh\n",
    "    binarized = binarized * 2 - 1\n",
    "    return binarized\n",
    "\n",
    "def score(probs, y_true, thresh):\n",
    "    answers = postprocess_probs(probs, thresh)\n",
    "    id2w = config.id2w()\n",
    "    true_weights = np.array(list(map(id2w.get, y_true)))\n",
    "    our_score = (true_weights * answers).sum()\n",
    "    best_score = np.abs(true_weights).sum()\n",
    "    \n",
    "    return our_score / best_score\n",
    "\n",
    "def score_attrs(probs, y_true):\n",
    "    answers = postprocess_probs(probs)\n",
    "    id2w = config.id2w()\n",
    "    true_weights = np.array(list(map(id2w.get, y_true)))\n",
    "    our_score = np.cumsum(true_weights * answers)\n",
    "    best_score = np.cumsum(np.abs(true_weights))\n",
    "    \n",
    "    return our_score, best_score"
   ]
  },
  {
   "cell_type": "code",
   "execution_count": 5,
   "metadata": {},
   "outputs": [],
   "source": [
    "to_drop = ['is_weeked']"
   ]
  },
  {
   "cell_type": "code",
   "execution_count": 6,
   "metadata": {},
   "outputs": [],
   "source": [
    "X_train_full = train_df.drop(\n",
    "    ['event', 'event_dttm', 'answer_id'] + to_drop,\n",
    "    axis=1\n",
    ")\n",
    "y_train_full = train_df['event']\n",
    "\n",
    "X_test = test_df.drop(\n",
    "    ['answer_id', 'event_dttm', 'event'] + to_drop,\n",
    "    axis=1\n",
    ")\n",
    "answer_id = test_df['answer_id']"
   ]
  },
  {
   "cell_type": "code",
   "execution_count": 7,
   "metadata": {},
   "outputs": [],
   "source": [
    "X_train_full['event_dttm'] = range(X_train_full.shape[0])\n",
    "X_test['event_dttm'] = range(X_train_full.shape[0], X_train_full.shape[0] + X_test.shape[0])"
   ]
  },
  {
   "cell_type": "code",
   "execution_count": 8,
   "metadata": {},
   "outputs": [],
   "source": [
    "cols_init = set(X_train_full.columns)"
   ]
  },
  {
   "cell_type": "code",
   "execution_count": 9,
   "metadata": {},
   "outputs": [],
   "source": [
    "choose_your_destiny = cols_init\n",
    "choose_your_destiny = set(choose_your_destiny) - set([\n",
    " 'watched_prev',\n",
    " 'watched_post',\n",
    " 'watched_in_window_day',\n",
    " 'watched_in_window_now',\n",
    " 'watched_in_window_day_excluding', # lower\n",
    " 'watched_in_window_week',\n",
    " 'watched_in_window_week_excluding',\n",
    " 'num_dots',\n",
    " 'first_session_dttm'\n",
    "]) "
   ]
  },
  {
   "cell_type": "code",
   "execution_count": 10,
   "metadata": {},
   "outputs": [],
   "source": [
    "X_train_selected = X_train_full[choose_your_destiny]\n",
    "X_test_selected = X_test[choose_your_destiny]"
   ]
  },
  {
   "cell_type": "code",
   "execution_count": 11,
   "metadata": {},
   "outputs": [],
   "source": [
    "cat_features_init = set(['customer_id', 'story_id',\n",
    "                'product_0', 'product_1', 'product_2', 'product_3', 'product_4', 'product_5', 'product_6',\n",
    "                'marital_status_cd', 'job_position_cd', 'prod_not_nan',\n",
    "])"
   ]
  },
  {
   "cell_type": "code",
   "execution_count": 12,
   "metadata": {},
   "outputs": [],
   "source": [
    "cat_features = cat_features_init - (cols_init - choose_your_destiny)"
   ]
  },
  {
   "cell_type": "code",
   "execution_count": 13,
   "metadata": {},
   "outputs": [],
   "source": [
    "X_train, X_val, y_train, y_val = train_test_split(X_train_selected, y_train_full, test_size=0.2, shuffle=False)"
   ]
  },
  {
   "cell_type": "code",
   "execution_count": null,
   "metadata": {},
   "outputs": [],
   "source": []
  },
  {
   "cell_type": "code",
   "execution_count": 16,
   "metadata": {},
   "outputs": [
    {
     "data": {
      "text/plain": [
       "(378512, 91)"
      ]
     },
     "execution_count": 16,
     "metadata": {},
     "output_type": "execute_result"
    }
   ],
   "source": [
    "X_train.shape"
   ]
  },
  {
   "cell_type": "code",
   "execution_count": 19,
   "metadata": {},
   "outputs": [
    {
     "data": {
      "text/plain": [
       "['age',\n",
       " 'children_cnt',\n",
       " 'customer_id',\n",
       " 'day',\n",
       " 'event_dttm',\n",
       " 'gender_cd',\n",
       " 'group_number',\n",
       " 'hour',\n",
       " 'job_position_cd',\n",
       " 'marital_status_cd',\n",
       " 'mean_amount',\n",
       " 'mean_font_size',\n",
       " 'minute',\n",
       " 'nearest_story_seconds_after',\n",
       " 'nearest_story_seconds_before',\n",
       " 'negative',\n",
       " 'neutral',\n",
       " 'num_elements',\n",
       " 'num_guids',\n",
       " 'num_messages',\n",
       " 'num_pages',\n",
       " 'num_trans',\n",
       " 'num_urls',\n",
       " 'positive',\n",
       " 'prod_not_nan',\n",
       " 'prod_sum_cls',\n",
       " 'prod_sum_opn',\n",
       " 'prod_sum_utl',\n",
       " 'product_0',\n",
       " 'product_1',\n",
       " 'product_2',\n",
       " 'product_3',\n",
       " 'product_4',\n",
       " 'product_5',\n",
       " 'product_6',\n",
       " 'skip',\n",
       " 'speech',\n",
       " 'std_amount',\n",
       " 'std_amount_normalized',\n",
       " 'stories_after_counter',\n",
       " 'stories_at_all',\n",
       " 'stories_before_counter',\n",
       " 'story_id',\n",
       " 'sum_amount',\n",
       " 'sum_amount_if_airlines',\n",
       " 'sum_amount_if_airlines_percentage',\n",
       " 'sum_amount_if_auto_rental',\n",
       " 'sum_amount_if_auto_rental_percentage',\n",
       " 'sum_amount_if_business_service',\n",
       " 'sum_amount_if_business_service_percentage',\n",
       " 'sum_amount_if_clothes',\n",
       " 'sum_amount_if_clothes_percentage',\n",
       " 'sum_amount_if_contract_service',\n",
       " 'sum_amount_if_contract_service_percentage',\n",
       " 'sum_amount_if_entertainment',\n",
       " 'sum_amount_if_entertainment_percentage',\n",
       " 'sum_amount_if_hotels',\n",
       " 'sum_amount_if_hotels_percentage',\n",
       " 'sum_amount_if_mail_phone_sales',\n",
       " 'sum_amount_if_mail_phone_sales_percentage',\n",
       " 'sum_amount_if_membership_organizations',\n",
       " 'sum_amount_if_membership_organizations_percentage',\n",
       " 'sum_amount_if_other_shops',\n",
       " 'sum_amount_if_other_shops_percentage',\n",
       " 'sum_amount_if_personal_service',\n",
       " 'sum_amount_if_personal_service_percentage',\n",
       " 'sum_amount_if_professional_service',\n",
       " 'sum_amount_if_professional_service_percentage',\n",
       " 'sum_amount_if_repair_service',\n",
       " 'sum_amount_if_repair_service_percentage',\n",
       " 'sum_amount_if_retail_shops',\n",
       " 'sum_amount_if_retail_shops_percentage',\n",
       " 'sum_amount_if_service',\n",
       " 'sum_amount_if_service_percentage',\n",
       " 'sum_amount_if_state_service',\n",
       " 'sum_amount_if_state_service_percentage',\n",
       " 'sum_amount_if_transport',\n",
       " 'sum_amount_if_transport_percentage',\n",
       " 'sum_amount_if_unknown',\n",
       " 'sum_amount_if_unknown_percentage',\n",
       " 'sum_amount_if_utility_service',\n",
       " 'sum_amount_if_utility_service_percentage',\n",
       " 'sum_amount_if_wholesale',\n",
       " 'sum_amount_if_wholesale_percentage',\n",
       " 'text_amount',\n",
       " 'text_len',\n",
       " 'this_story_after_counter',\n",
       " 'this_story_at_all',\n",
       " 'this_story_before_counter',\n",
       " 'unique_in_group',\n",
       " 'weekday']"
      ]
     },
     "execution_count": 19,
     "metadata": {},
     "output_type": "execute_result"
    }
   ],
   "source": [
    "sorted(X_train.columns)"
   ]
  },
  {
   "cell_type": "code",
   "execution_count": null,
   "metadata": {},
   "outputs": [],
   "source": []
  },
  {
   "cell_type": "code",
   "execution_count": 128,
   "metadata": {},
   "outputs": [],
   "source": [
    "params = {\n",
    "    'iterations': 2200,\n",
    "    'verbose': 0,\n",
    "    'early_stopping_rounds': 100,\n",
    "    'thread_count': 19,\n",
    "    'loss_function': 'MultiClass',\n",
    "    'bagging_temperature': 0,\n",
    "    'depth': 8,\n",
    "    'l2_leaf_reg': 1.6519704174730915,\n",
    "    'max_ctr_complexity': 14,\n",
    "    'model_size_reg': 0.6588411267391062,\n",
    "    'random_strength': 0.8158788096777208\n",
    "}"
   ]
  },
  {
   "cell_type": "code",
   "execution_count": 88,
   "metadata": {},
   "outputs": [],
   "source": [
    "model = cb.CatBoostClassifier(**params)\n",
    "\n",
    "model.fit(X_train_selected, y_train_full, \n",
    "          cat_features=cat_features, \n",
    "          eval_set=(X_val, y_val),\n",
    "          plot=True,\n",
    ")"
   ]
  },
  {
   "cell_type": "code",
   "execution_count": 62,
   "metadata": {},
   "outputs": [],
   "source": [
    "def my_score(probs, y_true):\n",
    "    answers = probs\n",
    "    id2w = config.id2w()\n",
    "    true_weights = np.array(list(map(id2w.get, y_true)))\n",
    "    our_score = (true_weights * answers).sum()\n",
    "    best_score = np.abs(true_weights).sum()\n",
    "    \n",
    "    return our_score / best_score"
   ]
  },
  {
   "cell_type": "code",
   "execution_count": 80,
   "metadata": {},
   "outputs": [],
   "source": [
    "val_probs = model.predict_proba(X_val)\n",
    "weights = np.array([[-10, -0.1, 0.1, 0.5]])\n",
    "weighted_ans = np.sum(val_probs * weights, axis=1)"
   ]
  },
  {
   "cell_type": "code",
   "execution_count": 120,
   "metadata": {},
   "outputs": [
    {
     "name": "stdout",
     "output_type": "stream",
     "text": [
      "50434\n"
     ]
    },
    {
     "data": {
      "text/plain": [
       "0.4422120408974094"
      ]
     },
     "execution_count": 120,
     "metadata": {},
     "output_type": "execute_result"
    }
   ],
   "source": [
    "post = (weighted_ans > -0.015) * 2 - 1\n",
    "post[np.abs(weighted_ans) < 0] = 0\n",
    "print(np.sum(post > 0))\n",
    "\n",
    "my_score(post, y_val)"
   ]
  },
  {
   "cell_type": "code",
   "execution_count": null,
   "metadata": {},
   "outputs": [],
   "source": [
    "def get_model(**params):\n",
    "    print(params)\n",
    "    return cb.CatBoostClassifier(**params)\n",
    "\n",
    "def validate(model, X_train, y_train, X_val, y_val, verbose=0):\n",
    "    model.fit(X_train, y_train, \n",
    "          cat_features=cat_features, \n",
    "          eval_set=(X_val, y_val),\n",
    "          plot=verbose,\n",
    "    )\n",
    "    print(model.get_all_params())\n",
    "    probs = model.predict_proba(X_val)\n",
    "    current_score = score(probs, y_val, thresh=-0.007)\n",
    "    if verbose:\n",
    "        print(current_score)\n",
    "        \n",
    "    return current_score\n",
    "\n",
    "def evaluate_model(**params):\n",
    "    params_init = {\n",
    "        'iterations': 1000, \n",
    "        'verbose': 0,\n",
    "        'use_best_model': True,\n",
    "        'early_stopping_rounds': 100,\n",
    "        'loss_function': 'MultiClass'\n",
    "    }\n",
    "    params_init.update(params)\n",
    "    params_init['depth'] = int(params_init['depth'])\n",
    "    params_init['bagging_temperature'] = int(params_init['bagging_temperature'])\n",
    "    model = get_model(**params_init)\n",
    "    current_score = validate(model, X_train, y_train, X_val, y_val, verbose=0)\n",
    "    return current_score"
   ]
  },
  {
   "cell_type": "code",
   "execution_count": 75,
   "metadata": {},
   "outputs": [],
   "source": [
    "pbounds = {\n",
    "    'depth': (4, 12),\n",
    "    'l2_leaf_reg': (1e-3, 1e2),\n",
    "    'random_strength': (1e-2, 10),\n",
    "    'bagging_temperature': (0, 10),\n",
    "}"
   ]
  },
  {
   "cell_type": "code",
   "execution_count": null,
   "metadata": {},
   "outputs": [],
   "source": [
    "optimizer = BayesianOptimization(evaluate_model, pbounds, random_state=4)\n",
    "\n",
    "logger = JSONLogger(path=\"./logs.json\")\n",
    "optimizer.subscribe(Events.OPTMIZATION_STEP, logger)\n",
    "\n",
    "optimizer.maximize(init_points=1, n_iter=4)\n",
    "\n",
    "optimizer.res\n",
    "\n",
    "# optimized params you can find in ./logs.json"
   ]
  },
  {
   "cell_type": "code",
   "execution_count": null,
   "metadata": {},
   "outputs": [],
   "source": [
    "probs = model.predict_proba(X_test_selected)"
   ]
  },
  {
   "cell_type": "code",
   "execution_count": 765,
   "metadata": {},
   "outputs": [
    {
     "data": {
      "text/plain": [
       "{'nan_mode': 'Min',\n",
       " 'eval_metric': 'MultiClass',\n",
       " 'combinations_ctr': ['Borders:CtrBorderCount=15:CtrBorderType=Uniform:TargetBorderCount=3:TargetBorderType=MinEntropy:Prior=0/1:Prior=0.5/1:Prior=1/1',\n",
       "  'Counter:CtrBorderCount=15:CtrBorderType=Uniform:Prior=0/1'],\n",
       " 'iterations': 2200,\n",
       " 'sampling_frequency': 'PerTree',\n",
       " 'fold_permutation_block': 0,\n",
       " 'leaf_estimation_method': 'Newton',\n",
       " 'od_pval': 0,\n",
       " 'counter_calc_method': 'SkipTest',\n",
       " 'boosting_type': 'Plain',\n",
       " 'feature_border_type': 'GreedyLogSum',\n",
       " 'ctr_leaf_count_limit': 18446744073709551615,\n",
       " 'bayesian_matrix_reg': 0.1000000015,\n",
       " 'one_hot_max_size': 2,\n",
       " 'l2_leaf_reg': 1.651970387,\n",
       " 'random_strength': 0.8158788085,\n",
       " 'od_type': 'Iter',\n",
       " 'rsm': 1,\n",
       " 'boost_from_average': True,\n",
       " 'max_ctr_complexity': 14,\n",
       " 'model_size_reg': 0.6588411331,\n",
       " 'approx_on_full_history': False,\n",
       " 'simple_ctr': ['Borders:CtrBorderCount=15:CtrBorderType=Uniform:TargetBorderCount=3:TargetBorderType=MinEntropy:Prior=0/1:Prior=0.5/1:Prior=1/1',\n",
       "  'Counter:CtrBorderCount=15:CtrBorderType=Uniform:Prior=0/1'],\n",
       " 'use_best_model': False,\n",
       " 'od_wait': 100,\n",
       " 'class_names': ['0', '1', '2', '3'],\n",
       " 'random_seed': 0,\n",
       " 'depth': 8,\n",
       " 'ctr_target_border_count': 1,\n",
       " 'has_time': False,\n",
       " 'store_all_simple_ctr': False,\n",
       " 'fold_len_multiplier': 2,\n",
       " 'border_count': 254,\n",
       " 'bagging_temperature': 0,\n",
       " 'classes_count': 0,\n",
       " 'sparse_features_conflict_fraction': 0,\n",
       " 'leaf_estimation_backtracking': 'AnyImprovement',\n",
       " 'best_model_min_trees': 1,\n",
       " 'model_shrink_rate': 0,\n",
       " 'loss_function': 'MultiClass',\n",
       " 'learning_rate': 0.02999999933,\n",
       " 'score_function': 'Cosine',\n",
       " 'task_type': 'CPU',\n",
       " 'leaf_estimation_iterations': 1,\n",
       " 'bootstrap_type': 'Bayesian',\n",
       " 'permutation_count': 4}"
      ]
     },
     "execution_count": 765,
     "metadata": {},
     "output_type": "execute_result"
    }
   ],
   "source": [
    "model.get_all_params()"
   ]
  },
  {
   "cell_type": "code",
   "execution_count": 782,
   "metadata": {},
   "outputs": [],
   "source": [
    "def make_submission(answers, answer_id, path):\n",
    "    df = pd.DataFrame({'answer_id': answer_id, 'score': answers})\n",
    "    df = df.sort_values('answer_id')\n",
    "    df.to_csv(path, index=False)\n",
    "    return df"
   ]
  },
  {
   "cell_type": "code",
   "execution_count": 783,
   "metadata": {},
   "outputs": [],
   "source": [
    "answers = postprocess_probs(probs, +0.01)"
   ]
  },
  {
   "cell_type": "code",
   "execution_count": 784,
   "metadata": {
    "scrolled": true
   },
   "outputs": [
    {
     "data": {
      "text/plain": [
       "0.5832524455242402"
      ]
     },
     "execution_count": 784,
     "metadata": {},
     "output_type": "execute_result"
    }
   ],
   "source": [
    "np.mean(answers == 1)"
   ]
  },
  {
   "cell_type": "code",
   "execution_count": 785,
   "metadata": {},
   "outputs": [
    {
     "data": {
      "text/plain": [
       "(array([ 71701.,      0.,      0.,      0.,      0.,      0.,      0.,\n",
       "             0.,      0., 100348.]),\n",
       " array([-1. , -0.8, -0.6, -0.4, -0.2,  0. ,  0.2,  0.4,  0.6,  0.8,  1. ]),\n",
       " <a list of 10 Patch objects>)"
      ]
     },
     "execution_count": 785,
     "metadata": {},
     "output_type": "execute_result"
    },
    {
     "data": {
      "image/png": "[encoded data removed]",
      "text/plain": [
       "<Figure size 432x288 with 1 Axes>"
      ]
     },
     "metadata": {
      "needs_background": "light"
     },
     "output_type": "display_data"
    }
   ],
   "source": [
    "plt.hist(answers)"
   ]
  },
  {
   "cell_type": "code",
   "execution_count": 787,
   "metadata": {},
   "outputs": [],
   "source": [
    "sub = make_submission(answers, answer_id, DATA_PATH / 'submissions' / 'full_22k_plus_01.csv')"
   ]
  }
 ],
 "metadata": {
  "kernelspec": {
   "display_name": "Python 3",
   "language": "python",
   "name": "python3"
  },
  "language_info": {
   "codemirror_mode": {
    "name": "ipython",
    "version": 3
   },
   "file_extension": ".py",
   "mimetype": "text/x-python",
   "name": "python",
   "nbconvert_exporter": "python",
   "pygments_lexer": "ipython3",
   "version": "3.7.3"
  }
 },
 "nbformat": 4,
 "nbformat_minor": 2
}
