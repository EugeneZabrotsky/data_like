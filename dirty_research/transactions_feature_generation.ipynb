{
 "cells": [
  {
   "cell_type": "code",
   "execution_count": 120,
   "metadata": {},
   "outputs": [],
   "source": [
    "from pathlib import Path\n",
    "import numpy as np\n",
    "import pandas as pd\n",
    "\n",
    "\n",
    "DATA_PATH = Path('/data/eazabrotsky/data_like/')\n",
    "\n",
    "transactions_file = DATA_PATH / 'transactions.csv'\n",
    "transactions = pd.read_csv(transactions_file)\n",
    "\n",
    "reaction_file = DATA_PATH / 'stories_reaction_train.csv'\n",
    "reaction = pd.read_csv(reaction_file)\n",
    "\n",
    "mcc_file = DATA_PATH / 'MCCs.csv'\n",
    "mccs = pd.read_csv(mcc_file)"
   ]
  },
  {
   "cell_type": "code",
   "execution_count": 121,
   "metadata": {},
   "outputs": [],
   "source": [
    "mccs.fillna('unknown', inplace=True)\n",
    "\n",
    "mcc_map = dict(mccs[['MCC', 'Группа']].values)"
   ]
  },
  {
   "cell_type": "code",
   "execution_count": 122,
   "metadata": {},
   "outputs": [],
   "source": [
    "transactions.head()\n",
    "\n",
    "transactions['MCC_CODE_GROUP'] = transactions['merchant_mcc'].map(mcc_map).fillna(\"unknown\")\n",
    "\n",
    "unique_mcc = transactions['MCC_CODE_GROUP'].unique()\n",
    "\n",
    "mcc_name_to_id = dict(zip(unique_mcc, range(len(unique_mcc))))\n",
    "\n",
    "transactions['mcc_id'] = transactions['MCC_CODE_GROUP'].map(mcc_name_to_id)\n",
    "\n",
    "mcc_groups = list(mcc_name_to_id.keys())\n",
    "\n",
    "mcc_groups_amount = []\n",
    "for group in mcc_groups:\n",
    "    group_amount = 'amount_if_' + group\n",
    "    mcc_groups_amount.append(group_amount)\n",
    "    transactions[group_amount] = (transactions['MCC_CODE_GROUP'] == group) * transactions['transaction_amt']"
   ]
  },
  {
   "cell_type": "code",
   "execution_count": 123,
   "metadata": {},
   "outputs": [],
   "source": [
    "cl = pd.DataFrame({\"customer_id\": np.unique(transactions[\"customer_id\"])})"
   ]
  },
  {
   "cell_type": "code",
   "execution_count": 124,
   "metadata": {},
   "outputs": [],
   "source": [
    "grouped_cl = transactions.groupby(['customer_id'])\n",
    "def add_feature(feature_name, col, func, res = cl, grouped = grouped_cl):\n",
    "    res[feature_name] = grouped.agg({col: func})[col].values"
   ]
  },
  {
   "cell_type": "code",
   "execution_count": 125,
   "metadata": {},
   "outputs": [],
   "source": [
    "add_feature('sum_amount', 'transaction_amt', np.sum)\n",
    "add_feature('mean_amount', 'transaction_amt', np.mean)\n",
    "add_feature('num_trans', 'transaction_amt', len)\n",
    "add_feature('std_amount', 'transaction_amt', np.std)\n",
    "\n",
    "cl['std_amount_normalized'] = cl['std_amount'] / cl['mean_amount']"
   ]
  },
  {
   "cell_type": "code",
   "execution_count": 126,
   "metadata": {},
   "outputs": [],
   "source": [
    "for group in mcc_groups_amount:\n",
    "    add_feature('sum_' + group, group, np.sum)\n",
    "    cl['sum_' + group + '_percentage'] = cl['sum_' + group] / cl['sum_amount']"
   ]
  },
  {
   "cell_type": "code",
   "execution_count": 127,
   "metadata": {},
   "outputs": [],
   "source": [
    "cl.fillna(0, inplace = True)"
   ]
  },
  {
   "cell_type": "code",
   "execution_count": 128,
   "metadata": {},
   "outputs": [],
   "source": [
    "CUSTOMER_FEATURES_FILE = DATA_PATH / 'customer_transactions.csv'"
   ]
  },
  {
   "cell_type": "code",
   "execution_count": 129,
   "metadata": {},
   "outputs": [],
   "source": [
    "cl.to_csv(CUSTOMER_FEATURES_FILE)"
   ]
  }
 ],
 "metadata": {
  "kernelspec": {
   "display_name": "Python 3",
   "language": "python",
   "name": "python3"
  },
  "language_info": {
   "codemirror_mode": {
    "name": "ipython",
    "version": 3
   },
   "file_extension": ".py",
   "mimetype": "text/x-python",
   "name": "python",
   "nbconvert_exporter": "python",
   "pygments_lexer": "ipython3",
   "version": "3.7.3"
  }
 },
 "nbformat": 4,
 "nbformat_minor": 2
}
