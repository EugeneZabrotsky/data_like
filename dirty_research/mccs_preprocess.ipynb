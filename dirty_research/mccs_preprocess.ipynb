{
 "cells": [
  {
   "cell_type": "code",
   "execution_count": 24,
   "metadata": {},
   "outputs": [],
   "source": [
    "from pathlib import Path\n",
    "import numpy as np\n",
    "import pandas as pd\n",
    "import config\n",
    "\n",
    "DATA_PATH = config.get_data_path()\n",
    "\n",
    "MCC_SAVE = DATA_PATH / 'MCCs.csv'\n",
    "mcc_file = DATA_PATH / 'MCCs_init.csv'\n",
    "\n",
    "mccs = pd.read_csv(mcc_file)\n",
    "\n",
    "mccs.fillna('unknown', inplace=True)\n",
    "\n",
    "mccs['Группа'] = mccs['Группа'].map({\"Отели и мотели\" : 'hotels',\n",
    "                                    \"Авиалинии, авиакомпании\": 'airlines',\n",
    "                                    'Автомобили и транспортные средств': 'transport_vehicles',\n",
    "                                    'Аренда автомобилей': 'auto_rental',\n",
    "                                    'Бизнес услуги': 'business_service',\n",
    "                                    'Государственные услуги': 'state_service',\n",
    "                                    'Коммунальные и кабельные услуги': 'utility_service',\n",
    "                                    'Контрактные услуги': 'contract_service',\n",
    "                                    'Личные услуги': 'personal_service',\n",
    "                                    'Магазины одежды': 'clothes', \n",
    "                                    'Неизвестно': 'unknown',\n",
    "                                    'Оптовые поставщики и производители': 'wholesale',\n",
    "                                    'Поставщик услуг': 'service', \n",
    "                                    'Продажи по почте/телефону': 'mail_phone_sales',\n",
    "                                    'Профессиональные услуги': 'professional_service', \n",
    "                                    'Развлечения': 'entertainment',\n",
    "                                    'Различные магазины': 'other_shops',\n",
    "                                    'Ремонтные услуги': 'repair_service', \n",
    "                                    'Розничные магазины': 'retail_shops',\n",
    "                                    'Транспорт': 'transport',\n",
    "                                    'Членские организации': 'membership_organizations'})\n",
    "\n",
    "mccs.to_csv(MCC_SAVE, index=False)"
   ]
  }
 ],
 "metadata": {
  "kernelspec": {
   "display_name": "Python 3",
   "language": "python",
   "name": "python3"
  },
  "language_info": {
   "codemirror_mode": {
    "name": "ipython",
    "version": 3
   },
   "file_extension": ".py",
   "mimetype": "text/x-python",
   "name": "python",
   "nbconvert_exporter": "python",
   "pygments_lexer": "ipython3",
   "version": "3.7.3"
  }
 },
 "nbformat": 4,
 "nbformat_minor": 2
}
