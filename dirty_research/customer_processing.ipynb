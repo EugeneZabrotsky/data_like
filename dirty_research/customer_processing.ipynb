{
 "cells": [
  {
   "cell_type": "code",
   "execution_count": 70,
   "metadata": {},
   "outputs": [],
   "source": [
    "import config"
   ]
  },
  {
   "cell_type": "code",
   "execution_count": 69,
   "metadata": {},
   "outputs": [],
   "source": [
    "from pathlib import Path\n",
    "import numpy as np\n",
    "import pandas as pd\n",
    "\n",
    "\n",
    "DATA_PATH = Path('/data/eazabrotsky/data_like/')\n",
    "\n",
    "CUST_TRAIN_FILE = DATA_PATH / 'customer_train.csv'\n",
    "CUST_TEST_FILE = DATA_PATH / 'customer_train.csv'\n",
    "\n",
    "CUST_TRAIN_SAVE = DATA_PATH / 'customer_train_processed.csv'\n",
    "CUST_TEST_SAVE = DATA_PATH / 'customer_test_processed.csv'\n",
    "\n",
    "\n",
    "cust_train = pd.read_csv(CUST_TRAIN_FILE)\n",
    "cust_test = pd.read_csv(CUST_TEST_FILE)\n",
    "\n",
    "\n",
    "def process(cust):\n",
    "    mar_statuses = cust['marital_status_cd'].unique()\n",
    "    mar2id = dict(zip(mar_statuses, range(len(mar_statuses))))\n",
    "\n",
    "    cust['marital_status_cd'] = cust['marital_status_cd'].map(mar2id)\n",
    "    cust['gender_cd'] = cust['gender_cd'].map({'M': 0, 'F': 1})\n",
    "\n",
    "    for i in range(7):\n",
    "        cust[f'product_{i}'] = cust[f'product_{i}'].map({'OPN': 1, 'UTL': 2, 'CLS': 3})\n",
    "\n",
    "    prod_cols = [f'product_{i}' for i in range(7)]\n",
    "    cust['prod_not_nan'] = (cust[prod_cols] > 0).sum(axis=1)\n",
    "    cust['prod_sum_opn'] = (cust[prod_cols] == 1).sum(axis=1)\n",
    "    cust['prod_sum_utl'] = (cust[prod_cols] == 2).sum(axis=1)\n",
    "    cust['prod_sum_cls'] = (cust[prod_cols] == 3).sum(axis=1)\n",
    "    \n",
    "    return cust\n",
    "\n",
    "cust_train_processed = process(cust_train)\n",
    "cust_test_processed = process(cust_test)\n",
    "\n",
    "cust_train_processed.to_csv(CUST_TRAIN_SAVE)\n",
    "cust_test_processed.to_csv(CUST_TEST_SAVE)"
   ]
  }
 ],
 "metadata": {
  "kernelspec": {
   "display_name": "Python 3",
   "language": "python",
   "name": "python3"
  },
  "language_info": {
   "codemirror_mode": {
    "name": "ipython",
    "version": 3
   },
   "file_extension": ".py",
   "mimetype": "text/x-python",
   "name": "python",
   "nbconvert_exporter": "python",
   "pygments_lexer": "ipython3",
   "version": "3.7.3"
  }
 },
 "nbformat": 4,
 "nbformat_minor": 2
}
