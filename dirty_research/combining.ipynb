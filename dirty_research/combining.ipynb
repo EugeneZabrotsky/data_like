{
 "cells": [
  {
   "cell_type": "code",
   "execution_count": 97,
   "metadata": {},
   "outputs": [],
   "source": [
    "import numpy as np\n",
    "import pandas as pd\n",
    "\n",
    "import config\n",
    "\n",
    "DATA_PATH = config.get_data_path()\n",
    "\n",
    "STORIES_FILE = DATA_PATH / 'stories_processed.csv'\n",
    "REACTION_TRAIN_FILE = DATA_PATH / 'stories_reaction_train.csv'\n",
    "REACTION_TEST_FILE = DATA_PATH / 'stories_reaction_test.csv'\n",
    "\n",
    "CUSTOMER_TRAIN_FILE = DATA_PATH / 'customer_train_processed.csv'\n",
    "CUSTOMER_TEST_FILE = DATA_PATH / 'customer_test_processed.csv'\n",
    "\n",
    "TRANSACTIONS_FILE = DATA_PATH / 'customer_transactions.csv'\n",
    "\n",
    "TRAIN_SAVE = DATA_PATH / 'train_preprocessed.csv'\n",
    "TEST_SAVE = DATA_PATH / 'test_preprocessed.csv'\n",
    "\n",
    "def combine(reactions, customers, transactions):\n",
    "    reactions_customers = reactions.join(customers.set_index('customer_id'), on='customer_id')\n",
    "    re_cu_st = reactions_customers.join(stories.set_index('story_id'), on='story_id')\n",
    "    full_df = re_cu_st.join(transactions.set_index('customer_id'), on='customer_id')\n",
    "    return full_df\n",
    "\n",
    "if __name__ == '__main__':\n",
    "    stories = pd.read_csv(STORIES_FILE, index_col=0)\n",
    "    reactions_train = pd.read_csv(REACTION_TRAIN_FILE)\n",
    "    reactions_test = pd.read_csv(REACTION_TEST_FILE)\n",
    "    customers_train = pd.read_csv(CUSTOMER_TRAIN_FILE, index_col=0)\n",
    "    customers_test = pd.read_csv(CUSTOMER_TEST_FILE, index_col=0)\n",
    "    transactions = pd.read_csv(TRANSACTIONS_FILE, index_col=0)\n",
    "    \n",
    "    train_df = combine(reactions_train, customers_train, transactions)\n",
    "    test_df = combine(reactions_test, customers_test, transactions)\n",
    "\n",
    "    train_df.to_csv(TRAIN_SAVE)\n",
    "    test_df.to_csv(TEST_SAVE)    "
   ]
  }
 ],
 "metadata": {
  "kernelspec": {
   "display_name": "Python 3",
   "language": "python",
   "name": "python3"
  },
  "language_info": {
   "codemirror_mode": {
    "name": "ipython",
    "version": 3
   },
   "file_extension": ".py",
   "mimetype": "text/x-python",
   "name": "python",
   "nbconvert_exporter": "python",
   "pygments_lexer": "ipython3",
   "version": "3.7.3"
  }
 },
 "nbformat": 4,
 "nbformat_minor": 2
}
